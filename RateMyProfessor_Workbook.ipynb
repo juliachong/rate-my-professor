{
 "cells": [
  {
   "cell_type": "code",
   "execution_count": 11,
   "metadata": {},
   "outputs": [],
   "source": [
    "import pandas as pd\n",
    "import json\n",
    "import requests\n",
    "import json\n",
    "from bs4 import BeautifulSoup as BS\n",
    "import time\n",
    "import mysql.connector\n",
    "import numpy as np\n",
    "import re\n",
    "import pandas as pd\n",
    "import matplotlib.pyplot as plt\n",
    "%matplotlib inline"
   ]
  },
  {
   "cell_type": "code",
   "execution_count": 12,
   "metadata": {},
   "outputs": [],
   "source": [
    "import config1\n",
    "cnx = mysql.connector.connect(\n",
    "    host = config1.host,\n",
    "    user = config1.user,\n",
    "    passwd = config1.password\n",
    ")\n",
    "cursor = cnx.cursor()\n"
   ]
  },
  {
   "cell_type": "code",
   "execution_count": 13,
   "metadata": {},
   "outputs": [],
   "source": [
    "def get_data(school_id):\n",
    "    id = school_id\n",
    "    url_ex = f'http://www.ratemyprofessors.com/filter/professor/?&page=1&filter=teacherlastname_sort_s+asc&query=*%3A*&queryoption=TEACHER&queryBy=schoolId&sid={id}'\n",
    "    response = requests.get(url_ex)\n",
    "    data = json.loads(response.text)\n",
    "    num_of_professors = data['searchResultsTotal']\n",
    "    num_divided = num_of_professors / 20\n",
    "    \n",
    "    if isinstance(num_divided, float) == True:\n",
    "        num_divided = int(num_divided + 1)\n",
    "        \n",
    "    professors = []    \n",
    "    for i in range(1, num_divided):\n",
    "        id = school_id\n",
    "        url = f'http://www.ratemyprofessors.com/filter/professor/?&page={i}&filter=teacherlastname_sort_s+asc&query=*%3A*&queryoption=TEACHER&queryBy=schoolId&sid={id}'\n",
    "        response = requests.get(url)\n",
    "        data = json.loads(response.text)\n",
    "        professors.append(data)\n",
    "    new_list = []\n",
    "    for i in range(len(professors)):\n",
    "        prof_data = professors[i]['professors']\n",
    "        new_list.append(prof_data)\n",
    "    prof = []\n",
    "    for i in range(len(new_list)):\n",
    "        a = new_list[i]\n",
    "        for j in range(len(a)):\n",
    "            b = a[j]\n",
    "            prof.append(b)\n",
    "    \n",
    "    prof_list = []\n",
    "    \n",
    "    for i in range(len(prof)):\n",
    "            overall_rating = prof[i]['overall_rating']\n",
    "            if overall_rating == 'N/A':\n",
    "                continue\n",
    "            else:\n",
    "                school = prof[i]['institution_name']\n",
    "                dept = prof[i]['tDept']\n",
    "                name = prof[i]['tLname'] + ' ' + prof[i]['tFname']\n",
    "                num_ratings = prof[i]['tNumRatings']\n",
    "                rating = prof[i]['overall_rating']\n",
    "                prof_tuple = (school, name, dept, float(rating), int(num_ratings))\n",
    "                prof_list.append(prof_tuple)\n",
    "    return prof_list"
   ]
  },
  {
   "cell_type": "code",
   "execution_count": 14,
   "metadata": {},
   "outputs": [],
   "source": [
    "def connect_database(database, table):\n",
    "    import config1\n",
    "    cnx = mysql.connector.connect(\n",
    "        host = config1.host,\n",
    "        user = config1.user,\n",
    "        passwd = config1.password\n",
    "    )\n",
    "\n",
    "    cursor = cnx.cursor()\n",
    "    cursor.execute(\"CREATE DATABASE {} \".format(database))\n",
    "    cnx.database = database\n",
    "# connects to AWS server, creates cursor, creates database"
   ]
  },
  {
   "cell_type": "code",
   "execution_count": 15,
   "metadata": {},
   "outputs": [],
   "source": [
    "def create_table(table):\n",
    "    import config1\n",
    "    cnx = mysql.connector.connect(\n",
    "        host = config1.host,\n",
    "        user = config1.user,\n",
    "        passwd = config1.password\n",
    "    )\n",
    "    cursor = cnx.cursor()\n",
    "    cursor.execute(\"CREATE TABLE {} \".format(table) +\n",
    "                   \"(name varchar(100) NOT NULL, department varchar(100), rating float, num_ratings int)\")"
   ]
  },
  {
   "cell_type": "code",
   "execution_count": 16,
   "metadata": {},
   "outputs": [],
   "source": [
    "def drop_database(database):\n",
    "    import config1\n",
    "    cnx = mysql.connector.connect(\n",
    "        host = config1.host,\n",
    "        user = config1.user,\n",
    "        passwd = config1.password\n",
    "    )\n",
    "\n",
    "    cursor = cnx.cursor()\n",
    "    cursor.execute(\"DROP DATABASE {} \".format(database))\n",
    "    cnx.database = database   "
   ]
  },
  {
   "cell_type": "code",
   "execution_count": 17,
   "metadata": {},
   "outputs": [],
   "source": [
    "def insert_data(table, list_name):\n",
    "    statement = \"INSERT INTO {}\".format(table) + \" (school, name, department, rating, num_ratings) VALUES (%s, %s, %s, %s, %s)\"\n",
    "    cursor = cnx.cursor()\n",
    "    cursor.execute(statement, prof_list)\n",
    "    cnx.commit()"
   ]
  },
  {
   "cell_type": "code",
   "execution_count": 18,
   "metadata": {},
   "outputs": [],
   "source": [
    "prof_list = get_data(758)"
   ]
  },
  {
   "cell_type": "code",
   "execution_count": null,
   "metadata": {},
   "outputs": [],
   "source": []
  },
  {
   "cell_type": "code",
   "execution_count": 20,
   "metadata": {},
   "outputs": [],
   "source": [
    "statement = \"INSERT INTO rate_my_prof.prof (school, name, department, rating, rating_count) VALUES (%s, %s, %s, %s, %s)\"\n",
    "cursor = cnx.cursor()\n",
    "cursor.executemany(statement, prof_list)\n",
    "cnx.commit()"
   ]
  },
  {
   "cell_type": "code",
   "execution_count": 21,
   "metadata": {},
   "outputs": [
    {
     "ename": "InterfaceError",
     "evalue": "Failed executing the operation; Not all parameters were used in the SQL statement",
     "output_type": "error",
     "traceback": [
      "\u001b[0;31m---------------------------------------------------------------------------\u001b[0m",
      "\u001b[0;31mProgrammingError\u001b[0m                          Traceback (most recent call last)",
      "\u001b[0;32m/opt/anaconda3/lib/python3.7/site-packages/mysql/connector/cursor_cext.py\u001b[0m in \u001b[0;36m_batch_insert\u001b[0;34m(self, operation, seq_params)\u001b[0m\n\u001b[1;32m    316\u001b[0m                         raise errors.ProgrammingError(\n\u001b[0;32m--> 317\u001b[0;31m                             \"Not all parameters were used in the SQL statement\")\n\u001b[0m\u001b[1;32m    318\u001b[0m                 \u001b[0mvalues\u001b[0m\u001b[0;34m.\u001b[0m\u001b[0mappend\u001b[0m\u001b[0;34m(\u001b[0m\u001b[0mtmp\u001b[0m\u001b[0;34m)\u001b[0m\u001b[0;34m\u001b[0m\u001b[0;34m\u001b[0m\u001b[0m\n",
      "\u001b[0;31mProgrammingError\u001b[0m: Not all parameters were used in the SQL statement",
      "\nDuring handling of the above exception, another exception occurred:\n",
      "\u001b[0;31mInterfaceError\u001b[0m                            Traceback (most recent call last)",
      "\u001b[0;32m<ipython-input-21-19ece3e07f5e>\u001b[0m in \u001b[0;36m<module>\u001b[0;34m\u001b[0m\n\u001b[1;32m      1\u001b[0m \u001b[0mstatement\u001b[0m \u001b[0;34m=\u001b[0m \u001b[0;34m\"INSERT INTO rate_my_prof.SUNY_Geneseo (name, department, rating, num_ratings) VALUES (%s, %s, %s, %s)\"\u001b[0m\u001b[0;34m\u001b[0m\u001b[0;34m\u001b[0m\u001b[0m\n\u001b[1;32m      2\u001b[0m \u001b[0mcursor\u001b[0m \u001b[0;34m=\u001b[0m \u001b[0mcnx\u001b[0m\u001b[0;34m.\u001b[0m\u001b[0mcursor\u001b[0m\u001b[0;34m(\u001b[0m\u001b[0;34m)\u001b[0m\u001b[0;34m\u001b[0m\u001b[0;34m\u001b[0m\u001b[0m\n\u001b[0;32m----> 3\u001b[0;31m \u001b[0mcursor\u001b[0m\u001b[0;34m.\u001b[0m\u001b[0mexecutemany\u001b[0m\u001b[0;34m(\u001b[0m\u001b[0mstatement\u001b[0m\u001b[0;34m,\u001b[0m \u001b[0mprof_list\u001b[0m\u001b[0;34m)\u001b[0m\u001b[0;34m\u001b[0m\u001b[0;34m\u001b[0m\u001b[0m\n\u001b[0m\u001b[1;32m      4\u001b[0m \u001b[0mcnx\u001b[0m\u001b[0;34m.\u001b[0m\u001b[0mcommit\u001b[0m\u001b[0;34m(\u001b[0m\u001b[0;34m)\u001b[0m\u001b[0;34m\u001b[0m\u001b[0;34m\u001b[0m\u001b[0m\n",
      "\u001b[0;32m/opt/anaconda3/lib/python3.7/site-packages/mysql/connector/cursor_cext.py\u001b[0m in \u001b[0;36mexecutemany\u001b[0;34m(self, operation, seq_params)\u001b[0m\n\u001b[1;32m    348\u001b[0m                 \u001b[0mself\u001b[0m\u001b[0;34m.\u001b[0m\u001b[0m_rowcount\u001b[0m \u001b[0;34m=\u001b[0m \u001b[0;36m0\u001b[0m\u001b[0;34m\u001b[0m\u001b[0;34m\u001b[0m\u001b[0m\n\u001b[1;32m    349\u001b[0m                 \u001b[0;32mreturn\u001b[0m \u001b[0;32mNone\u001b[0m\u001b[0;34m\u001b[0m\u001b[0;34m\u001b[0m\u001b[0m\n\u001b[0;32m--> 350\u001b[0;31m             \u001b[0mstmt\u001b[0m \u001b[0;34m=\u001b[0m \u001b[0mself\u001b[0m\u001b[0;34m.\u001b[0m\u001b[0m_batch_insert\u001b[0m\u001b[0;34m(\u001b[0m\u001b[0moperation\u001b[0m\u001b[0;34m,\u001b[0m \u001b[0mseq_params\u001b[0m\u001b[0;34m)\u001b[0m\u001b[0;34m\u001b[0m\u001b[0;34m\u001b[0m\u001b[0m\n\u001b[0m\u001b[1;32m    351\u001b[0m             \u001b[0;32mif\u001b[0m \u001b[0mstmt\u001b[0m \u001b[0;32mis\u001b[0m \u001b[0;32mnot\u001b[0m \u001b[0;32mNone\u001b[0m\u001b[0;34m:\u001b[0m\u001b[0;34m\u001b[0m\u001b[0;34m\u001b[0m\u001b[0m\n\u001b[1;32m    352\u001b[0m                 \u001b[0;32mreturn\u001b[0m \u001b[0mself\u001b[0m\u001b[0;34m.\u001b[0m\u001b[0mexecute\u001b[0m\u001b[0;34m(\u001b[0m\u001b[0mstmt\u001b[0m\u001b[0;34m)\u001b[0m\u001b[0;34m\u001b[0m\u001b[0;34m\u001b[0m\u001b[0m\n",
      "\u001b[0;32m/opt/anaconda3/lib/python3.7/site-packages/mysql/connector/cursor_cext.py\u001b[0m in \u001b[0;36m_batch_insert\u001b[0;34m(self, operation, seq_params)\u001b[0m\n\u001b[1;32m    327\u001b[0m         \u001b[0;32mexcept\u001b[0m \u001b[0mException\u001b[0m \u001b[0;32mas\u001b[0m \u001b[0merr\u001b[0m\u001b[0;34m:\u001b[0m\u001b[0;34m\u001b[0m\u001b[0;34m\u001b[0m\u001b[0m\n\u001b[1;32m    328\u001b[0m             raise errors.InterfaceError(\n\u001b[0;32m--> 329\u001b[0;31m                 \"Failed executing the operation; %s\" % err)\n\u001b[0m\u001b[1;32m    330\u001b[0m \u001b[0;34m\u001b[0m\u001b[0m\n\u001b[1;32m    331\u001b[0m \u001b[0;34m\u001b[0m\u001b[0m\n",
      "\u001b[0;31mInterfaceError\u001b[0m: Failed executing the operation; Not all parameters were used in the SQL statement"
     ]
    }
   ],
   "source": [
    "statement = \"INSERT INTO rate_my_prof.SUNY_Geneseo (name, department, rating, num_ratings) VALUES (%s, %s, %s, %s)\"\n",
    "cursor = cnx.cursor()\n",
    "cursor.executemany(statement, prof_list)\n",
    "cnx.commit()"
   ]
  },
  {
   "cell_type": "code",
   "execution_count": null,
   "metadata": {},
   "outputs": [],
   "source": [
    "import pandas as pd\n",
    "df = pd.read_csv('rate_my_professor')\n",
    "x = df['num_ratings'][:20]\n",
    "y = df['rating'][:20]"
   ]
  },
  {
   "cell_type": "code",
   "execution_count": null,
   "metadata": {},
   "outputs": [],
   "source": []
  },
  {
   "cell_type": "code",
   "execution_count": null,
   "metadata": {},
   "outputs": [],
   "source": [
    "#Biggest School in Each State\n",
    "school_list =[4282,1256,1166,1530,352,1320,135,1003,1385,914,1309,1266,758,775,1596,724,1358,685,960,1058,1061,45,1391,1075,1087,1091,1094,1082,1101,1106,120,1112,440,1115,1117,1118,3071,1122,1270,1513,601,1257,617,1321,626,1249,1264,1231,825,1610]\n"
   ]
  },
  {
   "cell_type": "code",
   "execution_count": null,
   "metadata": {},
   "outputs": [],
   "source": [
    "df=pd.DataFrame(prof_list)"
   ]
  },
  {
   "cell_type": "code",
   "execution_count": null,
   "metadata": {},
   "outputs": [],
   "source": [
    "df=df.rename(columns={0: \"School\", 1: \"Professor\", 2: \"Department\", 3:\"Rating\", 4:\"Rating Count\"})"
   ]
  },
  {
   "cell_type": "code",
   "execution_count": null,
   "metadata": {},
   "outputs": [],
   "source": [
    "pd.set_option('display.max_rows', 1000)"
   ]
  },
  {
   "cell_type": "code",
   "execution_count": null,
   "metadata": {},
   "outputs": [],
   "source": [
    "df_ratings = pd.DataFrame(df.groupby(['Department'])['Rating'].mean())"
   ]
  },
  {
   "cell_type": "code",
   "execution_count": null,
   "metadata": {},
   "outputs": [],
   "source": [
    "df_rating_counts = pd.DataFrame(df.groupby(['Department'])['Rating Count'].sum())"
   ]
  },
  {
   "cell_type": "code",
   "execution_count": null,
   "metadata": {},
   "outputs": [],
   "source": [
    "df_rating_counts"
   ]
  },
  {
   "cell_type": "code",
   "execution_count": null,
   "metadata": {},
   "outputs": [],
   "source": [
    "df_total = pd.merge(df_ratings, df_rating_counts, on='Department')"
   ]
  },
  {
   "cell_type": "code",
   "execution_count": null,
   "metadata": {},
   "outputs": [],
   "source": [
    "df_total.shape"
   ]
  },
  {
   "cell_type": "code",
   "execution_count": null,
   "metadata": {},
   "outputs": [],
   "source": [
    "updates = [{'Department':'Classical & Medieval Studies', 'Rating': 4.4821471041756356, 'Rating Count': 66},\n",
    "           {'Department': 'African Studies', 'Rating': 3.8477987579579627, 'Rating Count': 212},\n",
    "           {'Department':'Biology', 'Rating': 3.5424170101403556, 'Rating Count': 2682},\n",
    "           {'Department':'Curriculum Instruction', 'Rating': 4.116825408405727, 'Rating Count': 30},\n",
    "           {'Department':'Engineering Mechanics', 'Rating': 3.5782609236413156, 'Rating Count': 46},\n",
    "           {'Department':'Hotel & Restaurant Management', 'Rating': 3.841666678003713, 'Rating Count': 245},\n",
    "           {'Department':'Information Science Tech', 'Rating': 3.4685114030796003, 'Rating Count': 1362},\n",
    "           {'Department':'Labor Employment Relations', 'Rating': 3.9464963271008227, 'Rating Count': 246},\n",
    "           {'Department':'Landscape Architecture & Regional Planning', 'Rating': 3.57796050333663, 'Rating Count': 95},\n",
    "           {'Department':'Recreation, Parks, & Tourism', 'Rating': 3.9977112855862407, 'Rating Count': 142}\n",
    "          ]"
   ]
  },
  {
   "cell_type": "code",
   "execution_count": null,
   "metadata": {},
   "outputs": [],
   "source": [
    "df_updates = pd.DataFrame(updates)"
   ]
  },
  {
   "cell_type": "code",
   "execution_count": null,
   "metadata": {},
   "outputs": [],
   "source": [
    "df_updates = df_updates.set_index('Department')"
   ]
  },
  {
   "cell_type": "code",
   "execution_count": null,
   "metadata": {},
   "outputs": [],
   "source": [
    "df_total = df_total.drop(['Classical  Medieval Studies','Biological Sciences', 'Biology','Classical & Medieval Studies','Classical amp Medieval Studies', 'Curriculum  Instruction', 'Curriculum amp Instruction', 'Ecosystem Science  Management', 'Ecosystem Science & Management', 'Engineering Science  Mechanics', 'Engineering Science amp Mechanics', 'Engineering, Science, & Mechanics', 'Hotel  Restaurant Management', 'Hotel & Restaurant Management', 'Hotel amp Restaurant Management', 'Information Sciences  Technology', 'Information Sciences & Technology', 'Information Science', 'Information Sciences amp Technology', 'Labor  Employment Relations', 'Labor & Employment Relations','Labor amp Employment Relations', 'Landscape Architecture  Regional Planning', 'Landscape Architecture & Regional Planning', 'Recreation Parks  Tourism', 'Recreation Parks amp Tourism', 'Recreation, Parks, & Tourism', 'African-American Studies', 'Africana Studies'])\n"
   ]
  },
  {
   "cell_type": "code",
   "execution_count": null,
   "metadata": {},
   "outputs": [],
   "source": [
    "df_total.shape"
   ]
  },
  {
   "cell_type": "code",
   "execution_count": null,
   "metadata": {},
   "outputs": [],
   "source": [
    "df_updates.shape"
   ]
  },
  {
   "cell_type": "code",
   "execution_count": null,
   "metadata": {},
   "outputs": [],
   "source": [
    "frames1=[df_total,df_updates]"
   ]
  },
  {
   "cell_type": "code",
   "execution_count": null,
   "metadata": {},
   "outputs": [],
   "source": [
    "df_total_updated = pd.concat(frames1)"
   ]
  },
  {
   "cell_type": "code",
   "execution_count": null,
   "metadata": {},
   "outputs": [],
   "source": [
    "list = []\n",
    "for i in range(0,127):\n",
    "    index = i\n",
    "    list.append(index)\n"
   ]
  },
  {
   "cell_type": "code",
   "execution_count": null,
   "metadata": {},
   "outputs": [],
   "source": [
    "df_total_updated = df_total_updated.reset_index()\n"
   ]
  },
  {
   "cell_type": "code",
   "execution_count": null,
   "metadata": {},
   "outputs": [],
   "source": []
  },
  {
   "cell_type": "code",
   "execution_count": null,
   "metadata": {},
   "outputs": [],
   "source": [
    "df_total_updated = df_total_updated.drop(columns=['level_0', 'index'])"
   ]
  },
  {
   "cell_type": "code",
   "execution_count": null,
   "metadata": {},
   "outputs": [],
   "source": [
    "df_total_updated['Department'][0]"
   ]
  },
  {
   "cell_type": "code",
   "execution_count": null,
   "metadata": {},
   "outputs": [],
   "source": [
    "new_list = []\n",
    "for i in range(len(df_total_updated)):\n",
    "    dept = df_total_updated['Department'][i]\n",
    "    rating = df_total_updated['Rating'][i]\n",
    "    rating_count = df_total_updated['Rating Count'][i]\n",
    "    tup = (dept, rating, int(rating_count))\n",
    "    new_list.append(tup)"
   ]
  },
  {
   "cell_type": "code",
   "execution_count": null,
   "metadata": {
    "scrolled": false
   },
   "outputs": [],
   "source": []
  },
  {
   "cell_type": "code",
   "execution_count": null,
   "metadata": {},
   "outputs": [],
   "source": [
    "statement = \"INSERT INTO rate_my_prof.new_penn (department, rating, rating_count) VALUES (%s, %s, %s)\"\n",
    "cursor = cnx.cursor()\n",
    "cursor.executemany(statement, penn_list)\n",
    "cnx.commit()"
   ]
  },
  {
   "cell_type": "code",
   "execution_count": null,
   "metadata": {},
   "outputs": [],
   "source": [
    "rating_count = pd.read_csv('rating_count')\n",
    "rating_count"
   ]
  },
  {
   "cell_type": "code",
   "execution_count": null,
   "metadata": {},
   "outputs": [],
   "source": [
    "import pandas as pd\n",
    "new_list = pd.read_csv('new_list')\n",
    "average = 3.6918399999999907\n"
   ]
  },
  {
   "cell_type": "code",
   "execution_count": 284,
   "metadata": {},
   "outputs": [],
   "source": [
    "one = new_list['rating'][0:10]\n",
    "two = new_list['rating'][10:20]\n",
    "three = new_list['rating'][20:30]\n",
    "pop = new_list['rating_count']"
   ]
  },
  {
   "cell_type": "code",
   "execution_count": 280,
   "metadata": {},
   "outputs": [
    {
     "data": {
      "text/plain": [
       "Ttest_indResult(statistic=-1.8450454631179052, pvalue=0.09777030704050818)"
      ]
     },
     "execution_count": 280,
     "metadata": {},
     "output_type": "execute_result"
    }
   ],
   "source": [
    "ttest_ind(three, pop, equal_var = False)"
   ]
  },
  {
   "cell_type": "code",
   "execution_count": 215,
   "metadata": {},
   "outputs": [],
   "source": [
    "one_var = np.std(one) **2\n",
    "two_var = np.std(two) **2\n",
    "three_var = np.std(three) **2\n",
    "four_var = np.std(four) **2\n",
    "pop_var = np.std(pop) **2"
   ]
  },
  {
   "cell_type": "code",
   "execution_count": 216,
   "metadata": {},
   "outputs": [],
   "source": [
    "one_mean = np.mean(one)\n",
    "two_mean = np.mean(two)\n",
    "three_mean = np.mean(three)\n",
    "four_mean = np.mean(four)\n",
    "pop_mean = np.mean(pop)"
   ]
  },
  {
   "cell_type": "code",
   "execution_count": 225,
   "metadata": {},
   "outputs": [],
   "source": [
    "welsh = (three_mean - pop_mean) / np.sqrt(((three_var/10) + (pop_var/5000)))"
   ]
  },
  {
   "cell_type": "code",
   "execution_count": 226,
   "metadata": {},
   "outputs": [
    {
     "data": {
      "text/plain": [
       "-1.9442752537386485"
      ]
     },
     "execution_count": 226,
     "metadata": {},
     "output_type": "execute_result"
    }
   ],
   "source": [
    "welsh"
   ]
  },
  {
   "cell_type": "code",
   "execution_count": 202,
   "metadata": {},
   "outputs": [
    {
     "data": {
      "text/plain": [
       "-0.5147275276843895"
      ]
     },
     "execution_count": 202,
     "metadata": {},
     "output_type": "execute_result"
    }
   ],
   "source": [
    "one = -1.063513717765608\n",
    "two = -0.35803700124184945\n",
    "three = -1.9442752537386485\n",
    "four = 0.3169168599410574"
   ]
  },
  {
   "cell_type": "code",
   "execution_count": 110,
   "metadata": {},
   "outputs": [],
   "source": [
    "new_list['rating'].describe()\n",
    "\n",
    "z_list = []\n",
    "elements = []\n",
    "for i in range(0,100):\n",
    "    z_score = (new_list['rating'][i] - new_list['rating'].mean())/1.039437\n",
    "    z_list.append(z_score)\n"
   ]
  },
  {
   "cell_type": "code",
   "execution_count": 131,
   "metadata": {},
   "outputs": [
    {
     "data": {
      "text/plain": [
       "[-0.28076737695501586,\n",
       " 0.007850403631975283,\n",
       " 0.296468184218966,\n",
       " -0.08835552323035509,\n",
       " -0.8580029381289976,\n",
       " 0.6812918916682874,\n",
       " -1.1466207187159883,\n",
       " 0.296468184218966,\n",
       " -1.2428266455783188,\n",
       " 0.4888800379436267]"
      ]
     },
     "execution_count": 131,
     "metadata": {},
     "output_type": "execute_result"
    }
   ],
   "source": [
    "ten"
   ]
  },
  {
   "cell_type": "code",
   "execution_count": 111,
   "metadata": {},
   "outputs": [],
   "source": [
    "one = z_list[0:10]\n",
    "two = z_list[10:20]\n",
    "three = z_list[20:30]\n",
    "four = z_list[30:40]\n",
    "ten = z_list[90:100]"
   ]
  },
  {
   "cell_type": "code",
   "execution_count": 159,
   "metadata": {},
   "outputs": [],
   "source": [
    "difference = np.subtract(one, four)\n",
    "n=10"
   ]
  },
  {
   "cell_type": "code",
   "execution_count": 160,
   "metadata": {},
   "outputs": [],
   "source": [
    "sum_difference = np.sum(difference)"
   ]
  },
  {
   "cell_type": "code",
   "execution_count": 161,
   "metadata": {},
   "outputs": [],
   "source": [
    "squared = np.square(difference)\n",
    "sum_of_squared = np.sum(squared)"
   ]
  },
  {
   "cell_type": "code",
   "execution_count": 162,
   "metadata": {},
   "outputs": [],
   "source": [
    "numerator_1 = sum_difference/n\n"
   ]
  },
  {
   "cell_type": "code",
   "execution_count": 163,
   "metadata": {},
   "outputs": [],
   "source": [
    "denominator_1 = sum_of_squared - (((sum_difference)**2)/n)"
   ]
  },
  {
   "cell_type": "code",
   "execution_count": 164,
   "metadata": {},
   "outputs": [],
   "source": [
    "denominator_2 = (n-1)*(n)"
   ]
  },
  {
   "cell_type": "code",
   "execution_count": 165,
   "metadata": {},
   "outputs": [],
   "source": [
    "num_2 = numerator_1/denominator_1"
   ]
  },
  {
   "cell_type": "code",
   "execution_count": 166,
   "metadata": {},
   "outputs": [],
   "source": [
    "t_score = num_2/denominator_2"
   ]
  },
  {
   "cell_type": "code",
   "execution_count": 168,
   "metadata": {},
   "outputs": [
    {
     "data": {
      "text/plain": [
       "-0.0002441440809968846"
      ]
     },
     "execution_count": 168,
     "metadata": {},
     "output_type": "execute_result"
    }
   ],
   "source": [
    "t_score"
   ]
  },
  {
   "cell_type": "code",
   "execution_count": 57,
   "metadata": {},
   "outputs": [
    {
     "data": {
      "text/plain": [
       "[-0.6655910844043369,\n",
       " 0.7774978185306174,\n",
       " 0.6812918916682874,\n",
       " 0.2002622573566356,\n",
       " -0.6655910844043369,\n",
       " 1.0661155991176081,\n",
       " -0.6655910844043369,\n",
       " -0.8580029381289976,\n",
       " 0.7774978185306174,\n",
       " -1.6276503530276398]"
      ]
     },
     "execution_count": 57,
     "metadata": {},
     "output_type": "execute_result"
    }
   ],
   "source": [
    "one_two = -0.0002159901148811115\n",
    "two_three = 0.0001787919844045639\n",
    "three_four = -0.0007694869775893396"
   ]
  },
  {
   "cell_type": "code",
   "execution_count": null,
   "metadata": {},
   "outputs": [],
   "source": []
  },
  {
   "cell_type": "code",
   "execution_count": 58,
   "metadata": {},
   "outputs": [
    {
     "data": {
      "text/plain": [
       "[0.296468184218966,\n",
       " -0.6655910844043369,\n",
       " -0.37697330381734623,\n",
       " -0.28076737695501586,\n",
       " 0.296468184218966,\n",
       " -1.050414791853658,\n",
       " -1.050414791853658,\n",
       " -0.9542088649913276,\n",
       " -0.47317923067967615,\n",
       " 0.6812918916682874]"
      ]
     },
     "execution_count": 58,
     "metadata": {},
     "output_type": "execute_result"
    }
   ],
   "source": [
    "three"
   ]
  },
  {
   "cell_type": "code",
   "execution_count": 59,
   "metadata": {},
   "outputs": [
    {
     "data": {
      "text/plain": [
       "[0.10405633049430522,\n",
       " -0.37697330381734623,\n",
       " 0.6812918916682874,\n",
       " -1.5314444261653093,\n",
       " 0.7774978185306174,\n",
       " 0.4888800379436267,\n",
       " 0.296468184218966,\n",
       " -0.18456145009268546,\n",
       " -0.18456145009268546,\n",
       " 0.5850859648059566]"
      ]
     },
     "execution_count": 59,
     "metadata": {},
     "output_type": "execute_result"
    }
   ],
   "source": [
    "four"
   ]
  },
  {
   "cell_type": "code",
   "execution_count": null,
   "metadata": {},
   "outputs": [],
   "source": []
  },
  {
   "cell_type": "code",
   "execution_count": 50,
   "metadata": {},
   "outputs": [
    {
     "data": {
      "text/plain": [
       "[]"
      ]
     },
     "execution_count": 50,
     "metadata": {},
     "output_type": "execute_result"
    }
   ],
   "source": [
    "outliers = []\n",
    "for i in four:\n",
    "    if i <= -1.6 or i >= 1.6:\n",
    "        outliers.append(i)\n",
    "outliers"
   ]
  },
  {
   "cell_type": "code",
   "execution_count": null,
   "metadata": {},
   "outputs": [],
   "source": [
    "z_list1 = []\n",
    "for i in range(1000,1010):\n",
    "    z_score = (new_list['rating'][i] - new_list['rating'].mean())/1.039437\n",
    "    z_list1.append(z_score)\n",
    "z_list1\n"
   ]
  },
  {
   "cell_type": "code",
   "execution_count": 263,
   "metadata": {},
   "outputs": [
    {
     "data": {
      "text/plain": [
       "Text(0.5, 1.0, 'Rating Distributions')"
      ]
     },
     "execution_count": 263,
     "metadata": {},
     "output_type": "execute_result"
    },
    {
     "data": {
      "image/png": "[encoded data removed]",
      "text/plain": [
       "<Figure size 864x576 with 1 Axes>"
      ]
     },
     "metadata": {},
     "output_type": "display_data"
    }
   ],
   "source": [
    "import seaborn as sns\n",
    "plt.style.use('ggplot')\n",
    "sns.set(rc={'figure.figsize':(12,8)})\n",
    "sns.kdeplot(one, shade = True, label = 'First Ten')\n",
    "sns.kdeplot(two, shade = True, label = 'Second Ten')\n",
    "sns.kdeplot(three, shade = True, label = 'Third Ten')\n",
    "sns.kdeplot(four, shade = True, label = 'Fourth Ten')\n",
    "ax = plt.gca()\n",
    "ax.set_title(\"Rating Distributions\", fontsize=15)"
   ]
  },
  {
   "cell_type": "code",
   "execution_count": null,
   "metadata": {},
   "outputs": [],
   "source": []
  },
  {
   "cell_type": "code",
   "execution_count": null,
   "metadata": {},
   "outputs": [],
   "source": [
    "new_list['rating'][2]"
   ]
  },
  {
   "cell_type": "code",
   "execution_count": 74,
   "metadata": {},
   "outputs": [
    {
     "data": {
      "text/plain": [
       "(array([130.,   0.,   0.,   0.,   0.,  15.,   0.,  18.,   0.,   0.,  10.,\n",
       "          0.,  40.,   0.,   0.,  23.,   0.,  21.,   0.,   0.,  29.,   0.,\n",
       "         33.,   0.,   0., 139.,   0.,  41.,   0.,   0.,  60.,   0.,  76.,\n",
       "          0.,  45.,   0.,   0., 124.,   0.,   0.,  54.,   0.,  80.,   0.,\n",
       "          0., 107.,   0.,  67.,   0.,   0., 255.,   0.,  79.,   0.,   0.,\n",
       "        121.,   0., 109.,   0.,   0.,  95.,   0., 197.,   0.,   0., 128.,\n",
       "          0., 130.,   0., 183.,   0.,   0., 124.,   0.,   0., 399.,   0.,\n",
       "        103.,   0.,   0., 190.,   0., 197.,   0.,   0., 123.,   0., 279.,\n",
       "          0.,   0., 117.,   0., 151.,   0., 217.,   0.,   0.,  75.,   0.,\n",
       "        616.]),\n",
       " array([1.  , 1.04, 1.08, 1.12, 1.16, 1.2 , 1.24, 1.28, 1.32, 1.36, 1.4 ,\n",
       "        1.44, 1.48, 1.52, 1.56, 1.6 , 1.64, 1.68, 1.72, 1.76, 1.8 , 1.84,\n",
       "        1.88, 1.92, 1.96, 2.  , 2.04, 2.08, 2.12, 2.16, 2.2 , 2.24, 2.28,\n",
       "        2.32, 2.36, 2.4 , 2.44, 2.48, 2.52, 2.56, 2.6 , 2.64, 2.68, 2.72,\n",
       "        2.76, 2.8 , 2.84, 2.88, 2.92, 2.96, 3.  , 3.04, 3.08, 3.12, 3.16,\n",
       "        3.2 , 3.24, 3.28, 3.32, 3.36, 3.4 , 3.44, 3.48, 3.52, 3.56, 3.6 ,\n",
       "        3.64, 3.68, 3.72, 3.76, 3.8 , 3.84, 3.88, 3.92, 3.96, 4.  , 4.04,\n",
       "        4.08, 4.12, 4.16, 4.2 , 4.24, 4.28, 4.32, 4.36, 4.4 , 4.44, 4.48,\n",
       "        4.52, 4.56, 4.6 , 4.64, 4.68, 4.72, 4.76, 4.8 , 4.84, 4.88, 4.92,\n",
       "        4.96, 5.  ]),\n",
       " <a list of 100 Patch objects>)"
      ]
     },
     "execution_count": 74,
     "metadata": {},
     "output_type": "execute_result"
    },
    {
     "data": {
      "image/png": "[encoded data removed]",
      "text/plain": [
       "<Figure size 1440x720 with 1 Axes>"
      ]
     },
     "metadata": {},
     "output_type": "display_data"
    }
   ],
   "source": [
    "import matplotlib.pyplot as plt\n",
    "plt.style.use('ggplot')\n",
    "plt.figure(figsize=(20,10))\n",
    "plt.tick_params(labelsize = 20)\n",
    "plt.xlabel('Rating', fontsize=20)\n",
    "plt.ylabel('Count', fontsize=20)\n",
    "plt.title('Average Rating by Department', fontsize=20)\n",
    "plt.hist(new_list['rating'], bins=100)"
   ]
  },
  {
   "cell_type": "code",
   "execution_count": 136,
   "metadata": {},
   "outputs": [
    {
     "data": {
      "text/plain": [
       "127"
      ]
     },
     "execution_count": 136,
     "metadata": {},
     "output_type": "execute_result"
    }
   ],
   "source": [
    "len(rating_count)"
   ]
  },
  {
   "cell_type": "code",
   "execution_count": 114,
   "metadata": {},
   "outputs": [],
   "source": [
    "penn_list = []\n",
    "for i in range(len(df_total_updated)):\n",
    "    dept = df_total_updated['Department'][i]\n",
    "    rating = df_total_updated['Rating'][i]\n",
    "    rating_count = df_total_updated['Rating Count'][i]\n",
    "    penn_tuple = (dept, rating, int(rating_count))\n",
    "    penn_list.append(penn_tuple)"
   ]
  },
  {
   "cell_type": "code",
   "execution_count": 103,
   "metadata": {},
   "outputs": [
    {
     "data": {
      "text/plain": [
       "[('Accounting', 3.6210526315789475, 1034),\n",
       " ('Actuarial Science', 3.6, 19),\n",
       " ('Aerospace Engineering', 3.463636363636363, 127),\n",
       " ('Agriculture', 3.909803921568627, 331),\n",
       " ('Animal Science', 3.5611111111111122, 156),\n",
       " ('Anthropology', 3.419565217391303, 578),\n",
       " ('Arabic', 4.5, 22),\n",
       " ('Architectural Engineering', 4.0, 2),\n",
       " ('Architecture', 3.5777777777777775, 265),\n",
       " ('Art', 3.608510638297872, 305),\n",
       " ('Art Education', 3.425, 23),\n",
       " ('Art History', 3.62, 468),\n",
       " ('Astronomy', 3.4684210526315784, 763),\n",
       " ('Behavioral Sciences', 3.5526315789473686, 350),\n",
       " ('Biochemistry', 3.43076923076923, 157),\n",
       " ('Bioethics', 4.5, 5),\n",
       " ('Broadcasting', 4.9, 10),\n",
       " ('Business', 3.7702702702702724, 2028),\n",
       " ('Business Law', 3.0, 55),\n",
       " ('Chemical Engineering', 2.9920000000000004, 281),\n",
       " ('Chemistry', 3.588607594936709, 2301),\n",
       " ('Chinese', 3.7933333333333334, 86),\n",
       " ('Civil Engineering', 3.945945945945946, 175),\n",
       " ('Classics', 3.99375, 290),\n",
       " ('Communication', 3.9160493827160465, 3681),\n",
       " ('Communication Arts', 3.7739999999999996, 275),\n",
       " ('Communication Disorders', 3.6899999999999995, 194),\n",
       " ('Comparative Literature', 3.751428571428572, 316),\n",
       " ('Computer Science', 3.1347368421052635, 2358),\n",
       " ('Counseling', 4.3, 23),\n",
       " ('Criminal Justice', 3.929729729729729, 437),\n",
       " ('Curriculum & Instruction', 4.157142857142857, 17),\n",
       " ('Design', 2.6, 7),\n",
       " ('Developmental Studies', 3.8, 6),\n",
       " ('Earth Science', 3.4823529411764707, 994),\n",
       " ('Economics', 3.2065573770491804, 3729),\n",
       " ('Education', 3.731868131868132, 691),\n",
       " ('Electrical Engineering', 3.4583333333333335, 430),\n",
       " ('Engineering', 3.6937172774869094, 2370),\n",
       " ('English', 3.8470715835140976, 4679),\n",
       " ('Entomology', 3.7875000000000005, 83),\n",
       " ('Environmental Engineering', 3.6230769230769235, 103),\n",
       " ('Ethnic Studies', 3.8000000000000003, 38),\n",
       " ('Film', 4.0, 84),\n",
       " ('Finance', 3.7418181818181826, 611),\n",
       " ('Fine Arts', 3.658333333333333, 126),\n",
       " ('Food Science', 3.527272727272728, 68),\n",
       " ('Forestry', 3.7714285714285714, 86),\n",
       " ('French', 4.222972972972973, 532),\n",
       " ('Geography', 3.4929824561403513, 522),\n",
       " ('Geological Engineering', 4.0, 12),\n",
       " ('Geology', 3.404347826086957, 315),\n",
       " ('German', 4.181632653061224, 270),\n",
       " ('Graphic Arts', 3.9899999999999998, 66),\n",
       " ('Health Administration', 3.7999999999999994, 251),\n",
       " ('Health Science', 4.036363636363636, 289),\n",
       " ('Hebrew', 2.5, 40),\n",
       " ('History', 3.743749999999999, 1300),\n",
       " ('Horticulture', 3.9299999999999997, 111),\n",
       " ('Hospitality', 3.827777777777778, 164),\n",
       " ('Human Development', 3.8430555555555563, 1069),\n",
       " ('Humanities', 3.422222222222222, 175),\n",
       " ('Industrial Engineering', 3.1666666666666665, 348),\n",
       " ('Information Systems', 3.37, 163),\n",
       " ('Insurance', 3.8, 30),\n",
       " ('Integrated Arts', 3.3, 148),\n",
       " ('International Studies', 3.9333333333333336, 18),\n",
       " ('Italian', 4.223809523809523, 248),\n",
       " ('Japanese', 4.390909090909091, 97),\n",
       " ('Jewish Studies', 3.28, 56),\n",
       " ('Journalism', 4.011111111111111, 97),\n",
       " ('Kinesiology', 3.9939759036144586, 641),\n",
       " ('Korean', 4.214285714285714, 16),\n",
       " ('Languages', 4.003571428571428, 267),\n",
       " ('Latin', 3.2, 30),\n",
       " ('Law', 3.3333333333333335, 93),\n",
       " ('Literature', 4.258333333333333, 117),\n",
       " ('Management', 3.767741935483871, 441),\n",
       " ('Marketing', 3.966666666666665, 621),\n",
       " ('Materials Engineering', 3.5526315789473677, 159),\n",
       " ('Mathematics', 3.4177377892030836, 6213),\n",
       " ('Mechanical Engineering', 3.454411764705882, 536),\n",
       " ('Medicine', 2.0, 1),\n",
       " ('Meteorology', 3.814285714285714, 311),\n",
       " ('Military Science', 4.4399999999999995, 24),\n",
       " ('Mineral Engineering', 3.745454545454545, 133),\n",
       " ('Music', 4.1812499999999995, 547),\n",
       " ('Not Specified', 3.409090909090909, 132),\n",
       " ('Nursing', 3.8680000000000008, 148),\n",
       " ('Nutrition', 3.7264705882352946, 338),\n",
       " ('Philosophy', 3.8504950495049513, 877),\n",
       " ('Photography', 3.4, 28),\n",
       " ('Physical Ed', 3.644444444444444, 161),\n",
       " ('Physics', 3.2900000000000005, 924),\n",
       " ('Plant Pathology', 3.1, 6),\n",
       " ('Political Science', 3.5757575757575757, 1189),\n",
       " ('Portuguese', 5.0, 2),\n",
       " ('Psychology', 3.6414473684210535, 2994),\n",
       " ('Real Estate', 4.8, 18),\n",
       " ('Religion', 3.8, 164),\n",
       " ('Religious Studies', 3.55, 213),\n",
       " ('Russian', 3.8, 76),\n",
       " ('Science', 2.9, 5),\n",
       " ('Select department', 4.5, 48),\n",
       " ('Social Science', 3.69, 128),\n",
       " ('Social Work', 4.166666666666667, 4),\n",
       " ('Sociology', 3.81025641025641, 1674),\n",
       " ('Spanish', 3.941818181818182, 1266),\n",
       " ('Statistics', 3.4459770114942523, 1066),\n",
       " ('Supply Chain Management', 4.3625, 23),\n",
       " ('Theater', 4.132432432432433, 364),\n",
       " ('Theology', 3.5, 32),\n",
       " ('University Community', 5.0, 1),\n",
       " ('Veterinary Sciences', 4.085714285714286, 84),\n",
       " ('Visual Arts', 3.3818181818181823, 63),\n",
       " (\"Women's Studies\", 3.705555555555555, 418),\n",
       " ('Writing', 4.9, 6),\n",
       " ('Classical & Medieval Studies', 4.4821471041756356, 66),\n",
       " ('African Studies', 3.8477987579579627, 212),\n",
       " ('Biology', 3.5424170101403556, 2682),\n",
       " ('Curriculum Instruction', 4.116825408405727, 30),\n",
       " ('Engineering Mechanics', 3.5782609236413156, 46),\n",
       " ('Hotel & Restaurant Management', 3.841666678003713, 245),\n",
       " ('Information Science Tech', 3.4685114030796003, 1362),\n",
       " ('Labor Employment Relations', 3.9464963271008227, 246),\n",
       " ('Landscape Architecture & Regional Planning', 3.57796050333663, 95),\n",
       " ('Recreation, Parks, & Tourism', 3.9977112855862407, 142)]"
      ]
     },
     "execution_count": 103,
     "metadata": {},
     "output_type": "execute_result"
    }
   ],
   "source": [
    "penn_list"
   ]
  },
  {
   "cell_type": "code",
   "execution_count": 154,
   "metadata": {},
   "outputs": [
    {
     "data": {
      "text/plain": [
       "<BarContainer object of 5000 artists>"
      ]
     },
     "execution_count": 154,
     "metadata": {},
     "output_type": "execute_result"
    },
    {
     "data": {
      "image/png": "[encoded data removed]",
      "text/plain": [
       "<Figure size 432x288 with 1 Axes>"
      ]
     },
     "metadata": {
      "needs_background": "light"
     },
     "output_type": "display_data"
    }
   ],
   "source": [
    "import matplotlib.pyplot as plt\n",
    "%matplotlib inline\n",
    "x = new_list['rating']\n",
    "y = new_list['rating_count']\n",
    "plt.bar(x,y)"
   ]
  },
  {
   "cell_type": "code",
   "execution_count": 142,
   "metadata": {},
   "outputs": [
    {
     "data": {
      "text/plain": [
       "3.757618031496064"
      ]
     },
     "execution_count": 142,
     "metadata": {},
     "output_type": "execute_result"
    }
   ],
   "source": [
    "rating_count['rating'].mean()"
   ]
  },
  {
   "cell_type": "raw",
   "metadata": {},
   "source": []
  },
  {
   "cell_type": "code",
   "execution_count": 81,
   "metadata": {},
   "outputs": [
    {
     "data": {
      "text/plain": [
       "count     127.000000\n",
       "mean      514.062992\n",
       "std       949.374144\n",
       "min         1.000000\n",
       "25%        51.500000\n",
       "50%       163.000000\n",
       "75%       454.500000\n",
       "max      6213.000000\n",
       "Name: Rating Count, dtype: float64"
      ]
     },
     "execution_count": 81,
     "metadata": {},
     "output_type": "execute_result"
    }
   ],
   "source": [
    "df_total_updated['Rating Count'].describe()\n",
    "# tells us that 50% fall under 163 reviews, 25% fall over 454 reviews, and the average review \n",
    "# count is 514.\n",
    "# welsh's t-test"
   ]
  },
  {
   "cell_type": "code",
   "execution_count": 80,
   "metadata": {},
   "outputs": [],
   "source": [
    "fifty_schools = pd.read_csv('50_Schools_Data.csv')"
   ]
  },
  {
   "cell_type": "code",
   "execution_count": 97,
   "metadata": {},
   "outputs": [],
   "source": [
    "fifty_schools = fifty_schools.drop(columns=['Unnamed: 0'])"
   ]
  },
  {
   "cell_type": "code",
   "execution_count": 100,
   "metadata": {},
   "outputs": [],
   "source": [
    "\n",
    "import numpy as np\n",
    "import pandas as pd\n",
    "import scipy\n",
    "\n",
    "import statsmodels\n",
    "import statsmodels.api as sm\n",
    "from statsmodels.formula.api import ols"
   ]
  },
  {
   "cell_type": "code",
   "execution_count": 103,
   "metadata": {},
   "outputs": [
    {
     "data": {
      "text/plain": [
       "3.733797550770954"
      ]
     },
     "execution_count": 103,
     "metadata": {},
     "output_type": "execute_result"
    }
   ],
   "source": [
    "fifty_schools['Rating'].mean()\n"
   ]
  },
  {
   "cell_type": "code",
   "execution_count": 1,
   "metadata": {
    "collapsed": true
   },
   "outputs": [
    {
     "ename": "NameError",
     "evalue": "name 'foreign' is not defined",
     "output_type": "error",
     "traceback": [
      "\u001b[0;31m---------------------------------------------------------------------------\u001b[0m",
      "\u001b[0;31mNameError\u001b[0m                                 Traceback (most recent call last)",
      "\u001b[0;32m<ipython-input-1-bf9cc2e9dca4>\u001b[0m in \u001b[0;36m<module>\u001b[0;34m\u001b[0m\n\u001b[1;32m      1\u001b[0m \u001b[0mforeign_z\u001b[0m \u001b[0;34m=\u001b[0m \u001b[0;34m[\u001b[0m\u001b[0;34m]\u001b[0m\u001b[0;34m\u001b[0m\u001b[0;34m\u001b[0m\u001b[0m\n\u001b[1;32m      2\u001b[0m \u001b[0;32mfor\u001b[0m \u001b[0mi\u001b[0m \u001b[0;32min\u001b[0m \u001b[0mrange\u001b[0m\u001b[0;34m(\u001b[0m\u001b[0;36m0\u001b[0m\u001b[0;34m,\u001b[0m\u001b[0;36m50\u001b[0m\u001b[0;34m)\u001b[0m\u001b[0;34m:\u001b[0m\u001b[0;34m\u001b[0m\u001b[0;34m\u001b[0m\u001b[0m\n\u001b[0;32m----> 3\u001b[0;31m     \u001b[0mz\u001b[0m \u001b[0;34m=\u001b[0m \u001b[0mforeign\u001b[0m\u001b[0;34m[\u001b[0m\u001b[0;34m'rating'\u001b[0m\u001b[0;34m]\u001b[0m\u001b[0;34m[\u001b[0m\u001b[0mi\u001b[0m\u001b[0;34m]\u001b[0m \u001b[0;34m-\u001b[0m \u001b[0mnew_list\u001b[0m\u001b[0;34m[\u001b[0m\u001b[0;34m'rating'\u001b[0m\u001b[0;34m]\u001b[0m\u001b[0;34m.\u001b[0m\u001b[0mmean\u001b[0m\u001b[0;34m(\u001b[0m\u001b[0;34m)\u001b[0m \u001b[0;34m/\u001b[0m \u001b[0;36m1.039437\u001b[0m\u001b[0;34m\u001b[0m\u001b[0;34m\u001b[0m\u001b[0m\n\u001b[0m\u001b[1;32m      4\u001b[0m     \u001b[0mforeign_z\u001b[0m\u001b[0;34m.\u001b[0m\u001b[0mappend\u001b[0m\u001b[0;34m(\u001b[0m\u001b[0mz\u001b[0m\u001b[0;34m)\u001b[0m\u001b[0;34m\u001b[0m\u001b[0;34m\u001b[0m\u001b[0m\n",
      "\u001b[0;31mNameError\u001b[0m: name 'foreign' is not defined"
     ]
    }
   ],
   "source": [
    "foreign_z = []\n",
    "for i in range(0,50):\n",
    "    z = foreign['rating'][i] - new_list['rating'].mean() / 1.039437\n",
    "    foreign_z.append(z)\n"
   ]
  },
  {
   "cell_type": "code",
   "execution_count": 175,
   "metadata": {},
   "outputs": [
    {
     "data": {
      "text/plain": [
       "[-2.2517688902742456, -1.6517688902742456]"
      ]
     },
     "execution_count": 175,
     "metadata": {},
     "output_type": "execute_result"
    }
   ],
   "source": [
    "foreign_outliers = []\n",
    "for i in foreign_z:\n",
    "    if i <=-1.6:\n",
    "        foreign_outliers.append(i)\n",
    "    if i >=1.6:\n",
    "        foreign_outliers.append(i)\n",
    "foreign_outliers\n",
    "        "
   ]
  },
  {
   "cell_type": "code",
   "execution_count": 294,
   "metadata": {},
   "outputs": [
    {
     "data": {
      "text/plain": [
       "Ttest_indResult(statistic=4.244796698035968, pvalue=9.64602565598559e-05)"
      ]
     },
     "execution_count": 294,
     "metadata": {},
     "output_type": "execute_result"
    }
   ],
   "source": [
    "from scipy.stats import ttest_ind\n",
    "ttest_ind(foreign2['rating_count'], new_list_2['rating_count'], equal_var = False)"
   ]
  },
  {
   "cell_type": "code",
   "execution_count": 178,
   "metadata": {},
   "outputs": [],
   "source": [
    "foreign_1 = foreign['rating_count'].reset_index()"
   ]
  },
  {
   "cell_type": "code",
   "execution_count": 172,
   "metadata": {},
   "outputs": [
    {
     "ename": "NameError",
     "evalue": "name 'foreign_1' is not defined",
     "output_type": "error",
     "traceback": [
      "\u001b[0;31m---------------------------------------------------------------------------\u001b[0m",
      "\u001b[0;31mNameError\u001b[0m                                 Traceback (most recent call last)",
      "\u001b[0;32m<ipython-input-172-a799987434a9>\u001b[0m in \u001b[0;36m<module>\u001b[0;34m\u001b[0m\n\u001b[1;32m      1\u001b[0m \u001b[0msummation\u001b[0m \u001b[0;34m=\u001b[0m \u001b[0;34m[\u001b[0m\u001b[0;34m]\u001b[0m\u001b[0;34m\u001b[0m\u001b[0;34m\u001b[0m\u001b[0m\n\u001b[1;32m      2\u001b[0m \u001b[0;32mfor\u001b[0m \u001b[0mi\u001b[0m \u001b[0;32min\u001b[0m \u001b[0mrange\u001b[0m\u001b[0;34m(\u001b[0m\u001b[0;36m0\u001b[0m\u001b[0;34m,\u001b[0m\u001b[0;36m49\u001b[0m\u001b[0;34m)\u001b[0m\u001b[0;34m:\u001b[0m\u001b[0;34m\u001b[0m\u001b[0;34m\u001b[0m\u001b[0m\n\u001b[0;32m----> 3\u001b[0;31m     \u001b[0mform\u001b[0m \u001b[0;34m=\u001b[0m \u001b[0;34m(\u001b[0m\u001b[0mforeign_1\u001b[0m\u001b[0;34m[\u001b[0m\u001b[0;34m'rating_count'\u001b[0m\u001b[0;34m]\u001b[0m\u001b[0;34m[\u001b[0m\u001b[0mi\u001b[0m\u001b[0;34m]\u001b[0m \u001b[0;34m-\u001b[0m \u001b[0mforeign_1\u001b[0m\u001b[0;34m[\u001b[0m\u001b[0;34m'rating_count'\u001b[0m\u001b[0;34m]\u001b[0m\u001b[0;34m.\u001b[0m\u001b[0mmean\u001b[0m\u001b[0;34m(\u001b[0m\u001b[0;34m)\u001b[0m\u001b[0;34m)\u001b[0m\u001b[0;34m**\u001b[0m\u001b[0;36m2\u001b[0m\u001b[0;34m\u001b[0m\u001b[0;34m\u001b[0m\u001b[0m\n\u001b[0m\u001b[1;32m      4\u001b[0m     \u001b[0msummation\u001b[0m\u001b[0;34m.\u001b[0m\u001b[0mappend\u001b[0m\u001b[0;34m(\u001b[0m\u001b[0mform\u001b[0m\u001b[0;34m)\u001b[0m\u001b[0;34m\u001b[0m\u001b[0;34m\u001b[0m\u001b[0m\n\u001b[1;32m      5\u001b[0m \u001b[0mvalue\u001b[0m \u001b[0;34m=\u001b[0m \u001b[0msum\u001b[0m\u001b[0;34m(\u001b[0m\u001b[0msummation\u001b[0m\u001b[0;34m)\u001b[0m\u001b[0;34m\u001b[0m\u001b[0;34m\u001b[0m\u001b[0m\n",
      "\u001b[0;31mNameError\u001b[0m: name 'foreign_1' is not defined"
     ]
    }
   ],
   "source": [
    "summation = []\n",
    "for i in range(0,49):\n",
    "    form = (foreign_1['rating_count'][i] - foreign_1['rating_count'].mean())**2\n",
    "    summation.append(form)\n",
    "value = sum(summation)\n",
    "variance = value / 48"
   ]
  },
  {
   "cell_type": "code",
   "execution_count": 217,
   "metadata": {},
   "outputs": [
    {
     "data": {
      "text/plain": [
       "406.7823129251701"
      ]
     },
     "execution_count": 217,
     "metadata": {},
     "output_type": "execute_result"
    }
   ],
   "source": [
    "variance"
   ]
  },
  {
   "cell_type": "code",
   "execution_count": 169,
   "metadata": {},
   "outputs": [
    {
     "ename": "NameError",
     "evalue": "name 'foreign' is not defined",
     "output_type": "error",
     "traceback": [
      "\u001b[0;31m---------------------------------------------------------------------------\u001b[0m",
      "\u001b[0;31mNameError\u001b[0m                                 Traceback (most recent call last)",
      "\u001b[0;32m<ipython-input-169-7ac2d252de47>\u001b[0m in \u001b[0;36m<module>\u001b[0;34m\u001b[0m\n\u001b[1;32m      1\u001b[0m \u001b[0;32mfor\u001b[0m \u001b[0mi\u001b[0m \u001b[0;32min\u001b[0m \u001b[0mrange\u001b[0m\u001b[0;34m(\u001b[0m\u001b[0;36m0\u001b[0m\u001b[0;34m,\u001b[0m\u001b[0;36m50\u001b[0m\u001b[0;34m)\u001b[0m\u001b[0;34m:\u001b[0m\u001b[0;34m\u001b[0m\u001b[0;34m\u001b[0m\u001b[0m\n\u001b[0;32m----> 2\u001b[0;31m     \u001b[0mform\u001b[0m \u001b[0;34m=\u001b[0m \u001b[0;34m(\u001b[0m\u001b[0mforeign\u001b[0m\u001b[0;34m[\u001b[0m\u001b[0;34m'rating'\u001b[0m\u001b[0;34m]\u001b[0m\u001b[0;34m.\u001b[0m\u001b[0mmean\u001b[0m\u001b[0;34m(\u001b[0m\u001b[0;34m)\u001b[0m \u001b[0;34m-\u001b[0m \u001b[0;36m13.0418\u001b[0m\u001b[0;34m)\u001b[0m\u001b[0;34m/\u001b[0m\u001b[0mvariance\u001b[0m\u001b[0;34m\u001b[0m\u001b[0;34m\u001b[0m\u001b[0m\n\u001b[0m\u001b[1;32m      3\u001b[0m \u001b[0mform\u001b[0m\u001b[0;34m\u001b[0m\u001b[0;34m\u001b[0m\u001b[0m\n",
      "\u001b[0;31mNameError\u001b[0m: name 'foreign' is not defined"
     ]
    }
   ],
   "source": [
    "for i in range(0,50):\n",
    "    form = (foreign['rating'].mean() - 13.0418)/variance\n",
    "form    "
   ]
  },
  {
   "cell_type": "code",
   "execution_count": 181,
   "metadata": {},
   "outputs": [],
   "source": [
    "new_list1 = new_list.drop([0])"
   ]
  },
  {
   "cell_type": "code",
   "execution_count": 182,
   "metadata": {},
   "outputs": [],
   "source": [
    "foreign1 = foreign.drop([43])"
   ]
  },
  {
   "cell_type": "code",
   "execution_count": 183,
   "metadata": {},
   "outputs": [],
   "source": [
    "new_list_2 = new_list1.reset_index()\n",
    "foreign2 = foreign1.reset_index()"
   ]
  },
  {
   "cell_type": "code",
   "execution_count": 261,
   "metadata": {},
   "outputs": [
    {
     "data": {
      "text/plain": [
       "<matplotlib.collections.PathCollection at 0x1a2a365390>"
      ]
     },
     "execution_count": 261,
     "metadata": {},
     "output_type": "execute_result"
    },
    {
     "data": {
      "image/png": "[encoded data removed]",
      "text/plain": [
       "<Figure size 432x288 with 1 Axes>"
      ]
     },
     "metadata": {
      "needs_background": "light"
     },
     "output_type": "display_data"
    }
   ],
   "source": [
    "x = new_list['rating'].head(10)\n",
    "y = new_list['rating_count'].head(10)\n",
    "import matplotlib.pyplot as plt\n",
    "%matplotlib inline\n",
    "plt.scatter(x, y)"
   ]
  },
  {
   "cell_type": "code",
   "execution_count": 288,
   "metadata": {},
   "outputs": [
    {
     "data": {
      "text/plain": [
       "Text(0.5, 1.0, 'Rating Distributions')"
      ]
     },
     "execution_count": 288,
     "metadata": {},
     "output_type": "execute_result"
    },
    {
     "data": {
      "image/png": "[encoded data removed]",
      "text/plain": [
       "<Figure size 864x576 with 1 Axes>"
      ]
     },
     "metadata": {},
     "output_type": "display_data"
    }
   ],
   "source": [
    "import seaborn as sns\n",
    "plt.style.use('ggplot')\n",
    "sns.kdeplot(foreign2['rating_count'], shade = True, label = 'First Ten')\n",
    "sns.kdeplot(pop, shade = True, label = 'Population')\n",
    "ax = plt.gca()\n",
    "plt.xlim(-10, 100)\n",
    "ax.set_title(\"Rating Distributions\", fontsize=15)"
   ]
  },
  {
   "cell_type": "code",
   "execution_count": 292,
   "metadata": {},
   "outputs": [
    {
     "data": {
      "text/plain": [
       "<matplotlib.collections.PathCollection at 0x1a1a8b5790>"
      ]
     },
     "execution_count": 292,
     "metadata": {},
     "output_type": "execute_result"
    },
    {
     "data": {
      "image/png": "[encoded data removed]",
      "text/plain": [
       "<Figure size 432x288 with 1 Axes>"
      ]
     },
     "metadata": {
      "needs_background": "light"
     },
     "output_type": "display_data"
    }
   ],
   "source": [
    "x = foreign2['rating']\n",
    "y = foreign2['rating_count']\n",
    "import matplotlib.pyplot as plt\n",
    "%matplotlib inline\n",
    "plt.scatter(x, y)"
   ]
  },
  {
   "cell_type": "code",
   "execution_count": null,
   "metadata": {},
   "outputs": [],
   "source": []
  }
 ],
 "metadata": {
  "kernelspec": {
   "display_name": "Python 3",
   "language": "python",
   "name": "python3"
  },
  "language_info": {
   "codemirror_mode": {
    "name": "ipython",
    "version": 3
   },
   "file_extension": ".py",
   "mimetype": "text/x-python",
   "name": "python",
   "nbconvert_exporter": "python",
   "pygments_lexer": "ipython3",
   "version": "3.7.4"
  }
 },
 "nbformat": 4,
 "nbformat_minor": 2
}
